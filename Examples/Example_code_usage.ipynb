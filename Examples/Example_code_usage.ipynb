{
 "cells": [
  {
   "cell_type": "markdown",
   "metadata": {},
   "source": [
    "# Gridmet ETL code\n",
    "\n",
    "Python package to Extract:Translate:Load Gridmet climate forcings\n",
    "    \n",
    "    1. Extract: download Gridmet climate forcing data\n",
    "    2. Translate: Map the gridded climate to HRU polygons\n",
    "    3. Load: save as netCDF file\n",
    "    "
   ]
  },
  {
   "cell_type": "code",
   "execution_count": null,
   "metadata": {},
   "outputs": [],
   "source": [
    "from pathlib import Path"
   ]
  },
  {
   "cell_type": "markdown",
   "metadata": {},
   "source": [
    "### Example useage in a python notebook here showing the -h for help on arguements.\n",
    "\n",
    "An equivalent command line call from the root folder of the repo would be:\n",
    "\n",
    "* `python gridmetetl/gridmet_etl.py -h `"
   ]
  },
  {
   "cell_type": "code",
   "execution_count": 4,
   "metadata": {},
   "outputs": [
    {
     "name": "stdout",
     "output_type": "stream",
     "text": [
      "usage: gridmet_etl [-h] -t extraction type [-p YYYY-MM-DD) (YYYY-MM-DD]\n",
      "                   [-d numdays] [-f output_file_prefix] -i input_path -o\n",
      "                   output_path -w weight_file\n",
      "                   [-v [GridMet_Variables [GridMet_Variables ...]]]\n",
      "\n",
      "map gridded climate data to polygon using zonal area weighted mean\n",
      "\n",
      "optional arguments:\n",
      "  -h, --help            show this help message and exit\n",
      "  -t extraction type, --extract_type extraction type\n",
      "                        extract method: (days) or (date)\n",
      "  -p (YYYY-MM-DD) (YYYY-MM-DD), --period (YYYY-MM-DD) (YYYY-MM-DD)\n",
      "                        option: start date and end date of retrieval (YYYY-MM-\n",
      "                        DD)\n",
      "  -d numdays, --days numdays\n",
      "                        option: number of days to retrieve; if specified take\n",
      "                        precedence over -s & -e option\n",
      "  -f output_file_prefix, --file_prefix output_file_prefix\n",
      "                        option: prefix for output files\n",
      "  -i input_path, --inpath input_path\n",
      "                        input_path (location of shapefiles)\n",
      "  -o output_path, --outpath output_path\n",
      "                        Output path (location of netcdf by shapefile output)\n",
      "  -w weight_file, --weightsfile weight_file\n",
      "                        path/weight.csv - path/name of weight file\n",
      "  -v [GridMet_Variables [GridMet_Variables ...]], --variables [GridMet_Variables [GridMet_Variables ...]]\n",
      "                        over-ride default vars\n"
     ]
    }
   ],
   "source": [
    "%run -i ../gridmetetl/gridmet_etl.py -h"
   ]
  },
  {
   "cell_type": "markdown",
   "metadata": {},
   "source": [
    "## Example running of default condition:\n",
    "1. -t specify extract gridmet data from dates\n",
    "2. -p The date period to pull\n",
    "3. -f previx for ouput filenames: default is prefix_varYYYY_MM_DD.nc\n",
    "4. -i input file path where the hru shapefile/s can be found\n",
    "    * the downloaded gridmet netcdf files are also saved in the input path\n",
    "5. -o ouput path directory where the mapped climate data per HRU is stored: default name is prefix_climate_YYYY_MM_DD.nc\n",
    "6. -w path/file.csv of the weights file used to map gidded data on to each HRU\n",
    "7. -v (OPTIONAL) by default tmax, tmin, ppt, rhmin, rhmax, ws are downloaded.  You can specify which variable (one or more) you want to download\n",
    "\n",
    "### The equivalent command line call is:\n",
    "`python gridmetetl/gridmet_etl.py -t date -p 2018-09-01 2018-09-02 -i ../../GitRepos/onhm-fetcher-parser/Data -o ../../GitRepos/onhm-fetcher-parser/Output -w ../../GitRepos/onhm-fetcher-parser/Data/weights.csv`"
   ]
  },
  {
   "cell_type": "code",
   "execution_count": 9,
   "metadata": {},
   "outputs": [
    {
     "name": "stdout",
     "output_type": "stream",
     "text": [
      "starting Script\n",
      "instantiated\n",
      "input path exits ..\\..\\..\\GitRepos\\onhm-fetcher-parser\\Data\n",
      "output path exits\n",
      "weights file exits ..\\..\\..\\GitRepos\\onhm-fetcher-parser\\Data\\weights.csv\n",
      "B:\\gitbmi\\gridmetetl\\Examples\n",
      "start_date: 2018-09-22 00:00:00 and end_date: 2018-09-23 00:00:00\n",
      "the shapefile filenames read: [WindowsPath('../../../GitRepos/onhm-fetcher-parser/Data/nhru_01.shp'), WindowsPath('../../../GitRepos/onhm-fetcher-parser/Data/nhru_02.shp'), WindowsPath('../../../GitRepos/onhm-fetcher-parser/Data/nhru_03.shp'), WindowsPath('../../../GitRepos/onhm-fetcher-parser/Data/nhru_04.shp'), WindowsPath('../../../GitRepos/onhm-fetcher-parser/Data/nhru_05.shp'), WindowsPath('../../../GitRepos/onhm-fetcher-parser/Data/nhru_06.shp'), WindowsPath('../../../GitRepos/onhm-fetcher-parser/Data/nhru_07.shp'), WindowsPath('../../../GitRepos/onhm-fetcher-parser/Data/nhru_08.shp'), WindowsPath('../../../GitRepos/onhm-fetcher-parser/Data/nhru_09.shp'), WindowsPath('../../../GitRepos/onhm-fetcher-parser/Data/nhru_10L.shp'), WindowsPath('../../../GitRepos/onhm-fetcher-parser/Data/nhru_10U.shp'), WindowsPath('../../../GitRepos/onhm-fetcher-parser/Data/nhru_11.shp'), WindowsPath('../../../GitRepos/onhm-fetcher-parser/Data/nhru_12.shp'), WindowsPath('../../../GitRepos/onhm-fetcher-parser/Data/nhru_13.shp'), WindowsPath('../../../GitRepos/onhm-fetcher-parser/Data/nhru_14.shp'), WindowsPath('../../../GitRepos/onhm-fetcher-parser/Data/nhru_15.shp'), WindowsPath('../../../GitRepos/onhm-fetcher-parser/Data/nhru_16.shp'), WindowsPath('../../../GitRepos/onhm-fetcher-parser/Data/nhru_17.shp'), WindowsPath('../../../GitRepos/onhm-fetcher-parser/Data/nhru_18.shp')]\n",
      "the shapefile header is:   LAYER   POI_ID                                           geometry  \\\n",
      "0   NaN  7733855  POLYGON ((-73.37148 41.11233, -73.37151 41.112...   \n",
      "1   NaN  7733919  POLYGON ((-73.38532 41.13467, -73.38566 41.134...   \n",
      "2   NaN  7732571  POLYGON ((-73.41947 41.16068, -73.41955 41.160...   \n",
      "3   NaN  7732387  POLYGON ((-73.41097 41.15833, -73.41105 41.158...   \n",
      "4   NaN  7733327  MULTIPOLYGON (((-73.28636 41.12781, -73.28645 ...   \n",
      "\n",
      "   hru_id_nat  hru_id_reg region  \n",
      "0           1           1     01  \n",
      "1           2           2     01  \n",
      "2           3           3     01  \n",
      "3           4           4     01  \n",
      "4           5           5     01  \n",
      "Gridmet variable tmax retrieved: ..\\..\\..\\GitRepos\\onhm-fetcher-parser\\Data\\EM_tmax2020_04_07.nc\n",
      "Gridmet variable tmin retrieved: ..\\..\\..\\GitRepos\\onhm-fetcher-parser\\Data\\EM_tmin2020_04_07.nc\n",
      "Gridmet variable ppt retrieved: ..\\..\\..\\GitRepos\\onhm-fetcher-parser\\Data\\EM_ppt2020_04_07.nc\n",
      "Gridmet variable rhmax retrieved: ..\\..\\..\\GitRepos\\onhm-fetcher-parser\\Data\\EM_rhmax2020_04_07.nc\n",
      "Gridmet variable rhmin retrieved: ..\\..\\..\\GitRepos\\onhm-fetcher-parser\\Data\\EM_rhmin2020_04_07.nc\n",
      "Gridmet variable ws retrieved: ..\\..\\..\\GitRepos\\onhm-fetcher-parser\\Data\\EM_ws2020_04_07.nc\n",
      "Gridmet returned days = 2 and expected number of days 2\n",
      "initalized\n",
      "\n",
      "running\n",
      "finished reading weight file\n",
      "Processing day: 0\n",
      "    Processing hru 0\n",
      "    Processing hru 10000\n",
      "    Processing hru 20000\n",
      "    Processing hru 30000\n",
      "    Processing hru 40000\n",
      "    Processing hru 50000\n",
      "    Processing hru 60000\n",
      "    Processing hru 70000\n",
      "    Processing hru 80000\n",
      "    Processing hru 90000\n",
      "    Processing hru 100000\n",
      "Processing day: 1\n",
      "    Processing hru 0\n",
      "    Processing hru 10000\n",
      "    Processing hru 20000\n",
      "    Processing hru 30000\n",
      "    Processing hru 40000\n",
      "    Processing hru 50000\n",
      "    Processing hru 60000\n",
      "    Processing hru 70000\n",
      "    Processing hru 80000\n",
      "    Processing hru 90000\n",
      "    Processing hru 100000\n",
      "finished running\n",
      "B:\\gitbmi\\gridmetetl\\Examples\n",
      "('hruid', <class 'netCDF4._netCDF4.Dimension'>: name = 'hruid', size = 109951)\n",
      "('time', <class 'netCDF4._netCDF4.Dimension'> (unlimited): name = 'time', size = 0)\n",
      "dataset is closed\n",
      "finalized\n"
     ]
    }
   ],
   "source": [
    "%run -i ../gridmetetl/gridmet_etl.py \\\n",
    "-t date \\\n",
    "-p 2018-09-22 2018-09-23 \\\n",
    "-f EM_ \\\n",
    "-i ../../../GitRepos/onhm-fetcher-parser/Data \\\n",
    "-o ../../../GitRepos/onhm-fetcher-parser/Output \\\n",
    "-w ../../../GitRepos/onhm-fetcher-parser/Data/weights.csv"
   ]
  },
  {
   "cell_type": "markdown",
   "metadata": {},
   "source": [
    "## Run with optional -v setting\n",
    "* Note I change the -f so previous files would not get over-written\n",
    "\n",
    "### The equivalent command line call is:\n",
    "`python gridmetetl/gridmet_etl.py -t date -p 2018-09-01 2018-09-02 -i ../../GitRepos/onhm-fetcher-parser/Data -o ../../GitRepos/onhm-fetcher-parser/Output -w ../../GitRepos/onhm-fetcher-parser/Data/weights.csv -v srad`"
   ]
  },
  {
   "cell_type": "code",
   "execution_count": 10,
   "metadata": {},
   "outputs": [
    {
     "name": "stdout",
     "output_type": "stream",
     "text": [
      "starting Script\n",
      "instantiated\n",
      "input path exits ..\\..\\..\\GitRepos\\onhm-fetcher-parser\\Data\n",
      "output path exits\n",
      "weights file exits ..\\..\\..\\GitRepos\\onhm-fetcher-parser\\Data\\weights.csv\n",
      "B:\\gitbmi\\gridmetetl\\Examples\n",
      "start_date: 2018-09-22 00:00:00 and end_date: 2018-09-23 00:00:00\n",
      "the shapefile filenames read: [WindowsPath('../../../GitRepos/onhm-fetcher-parser/Data/nhru_01.shp'), WindowsPath('../../../GitRepos/onhm-fetcher-parser/Data/nhru_02.shp'), WindowsPath('../../../GitRepos/onhm-fetcher-parser/Data/nhru_03.shp'), WindowsPath('../../../GitRepos/onhm-fetcher-parser/Data/nhru_04.shp'), WindowsPath('../../../GitRepos/onhm-fetcher-parser/Data/nhru_05.shp'), WindowsPath('../../../GitRepos/onhm-fetcher-parser/Data/nhru_06.shp'), WindowsPath('../../../GitRepos/onhm-fetcher-parser/Data/nhru_07.shp'), WindowsPath('../../../GitRepos/onhm-fetcher-parser/Data/nhru_08.shp'), WindowsPath('../../../GitRepos/onhm-fetcher-parser/Data/nhru_09.shp'), WindowsPath('../../../GitRepos/onhm-fetcher-parser/Data/nhru_10L.shp'), WindowsPath('../../../GitRepos/onhm-fetcher-parser/Data/nhru_10U.shp'), WindowsPath('../../../GitRepos/onhm-fetcher-parser/Data/nhru_11.shp'), WindowsPath('../../../GitRepos/onhm-fetcher-parser/Data/nhru_12.shp'), WindowsPath('../../../GitRepos/onhm-fetcher-parser/Data/nhru_13.shp'), WindowsPath('../../../GitRepos/onhm-fetcher-parser/Data/nhru_14.shp'), WindowsPath('../../../GitRepos/onhm-fetcher-parser/Data/nhru_15.shp'), WindowsPath('../../../GitRepos/onhm-fetcher-parser/Data/nhru_16.shp'), WindowsPath('../../../GitRepos/onhm-fetcher-parser/Data/nhru_17.shp'), WindowsPath('../../../GitRepos/onhm-fetcher-parser/Data/nhru_18.shp')]\n",
      "the shapefile header is:   LAYER   POI_ID                                           geometry  \\\n",
      "0   NaN  7733855  POLYGON ((-73.37148 41.11233, -73.37151 41.112...   \n",
      "1   NaN  7733919  POLYGON ((-73.38532 41.13467, -73.38566 41.134...   \n",
      "2   NaN  7732571  POLYGON ((-73.41947 41.16068, -73.41955 41.160...   \n",
      "3   NaN  7732387  POLYGON ((-73.41097 41.15833, -73.41105 41.158...   \n",
      "4   NaN  7733327  MULTIPOLYGON (((-73.28636 41.12781, -73.28645 ...   \n",
      "\n",
      "   hru_id_nat  hru_id_reg region  \n",
      "0           1           1     01  \n",
      "1           2           2     01  \n",
      "2           3           3     01  \n",
      "3           4           4     01  \n",
      "4           5           5     01  \n",
      "Gridmet variable srad retrieved: ..\\..\\..\\GitRepos\\onhm-fetcher-parser\\Data\\EM_srad_srad2020_04_07.nc\n",
      "Gridmet returned days = 2 and expected number of days 2\n",
      "initalized\n",
      "\n",
      "running\n",
      "finished reading weight file\n",
      "Processing day: 0\n",
      "    Processing hru 0\n",
      "    Processing hru 10000\n",
      "    Processing hru 20000\n",
      "    Processing hru 30000\n",
      "    Processing hru 40000\n",
      "    Processing hru 50000\n",
      "    Processing hru 60000\n",
      "    Processing hru 70000\n",
      "    Processing hru 80000\n",
      "    Processing hru 90000\n",
      "    Processing hru 100000\n",
      "Processing day: 1\n",
      "    Processing hru 0\n",
      "    Processing hru 10000\n",
      "    Processing hru 20000\n",
      "    Processing hru 30000\n",
      "    Processing hru 40000\n",
      "    Processing hru 50000\n",
      "    Processing hru 60000\n",
      "    Processing hru 70000\n",
      "    Processing hru 80000\n",
      "    Processing hru 90000\n",
      "    Processing hru 100000\n",
      "finished running\n",
      "B:\\gitbmi\\gridmetetl\\Examples\n",
      "('hruid', <class 'netCDF4._netCDF4.Dimension'>: name = 'hruid', size = 109951)\n",
      "('time', <class 'netCDF4._netCDF4.Dimension'> (unlimited): name = 'time', size = 0)\n",
      "dataset is closed\n",
      "finalized\n"
     ]
    }
   ],
   "source": [
    "%run -i ../gridmetetl/gridmet_etl.py \\\n",
    "-t date \\\n",
    "-p 2018-09-22 2018-09-23 \\\n",
    "-f EM_srad_ \\\n",
    "-i ../../../GitRepos/onhm-fetcher-parser/Data \\\n",
    "-o ../../../GitRepos/onhm-fetcher-parser/Output \\\n",
    "-w ../../../GitRepos/onhm-fetcher-parser/Data/weights.csv \\\n",
    "-v srad"
   ]
  },
  {
   "cell_type": "code",
   "execution_count": null,
   "metadata": {},
   "outputs": [],
   "source": []
  }
 ],
 "metadata": {
  "kernelspec": {
   "display_name": "Python 3",
   "language": "python",
   "name": "python3"
  },
  "language_info": {
   "codemirror_mode": {
    "name": "ipython",
    "version": 3
   },
   "file_extension": ".py",
   "mimetype": "text/x-python",
   "name": "python",
   "nbconvert_exporter": "python",
   "pygments_lexer": "ipython3",
   "version": "3.7.6"
  }
 },
 "nbformat": 4,
 "nbformat_minor": 4
}
